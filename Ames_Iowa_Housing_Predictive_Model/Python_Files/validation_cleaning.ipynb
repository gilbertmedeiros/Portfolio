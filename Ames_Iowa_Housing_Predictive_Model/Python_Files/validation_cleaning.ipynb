{
 "cells": [
  {
   "cell_type": "code",
   "execution_count": 8,
   "metadata": {},
   "outputs": [],
   "source": [
    "import pandas as pd\n",
    "import numpy as np\n",
    "import matplotlib\n",
    "import matplotlib.pyplot as plt\n",
    "import seaborn as sns\n",
    "from sklearn.preprocessing import StandardScaler\n",
    "import os\n",
    "import sklearn.metrics as metrics\n",
    "import sklearn.linear_model as linear_model\n",
    "from sklearn.model_selection import train_test_split, KFold, cross_val_score\n",
    "os.chdir('/Users/gil/notebooks/DSI-US-4/Project2')\n",
    "sns.set_style('darkgrid')\n",
    "%config InlineBackend.figure_format = 'retina'\n",
    "%matplotlib inline"
   ]
  },
  {
   "cell_type": "code",
   "execution_count": 9,
   "metadata": {},
   "outputs": [],
   "source": [
    "house = pd.read_csv('./test.csv')"
   ]
  },
  {
   "cell_type": "code",
   "execution_count": 10,
   "metadata": {},
   "outputs": [],
   "source": [
    "house = house.rename(columns={'Pool Area': 'HasPool'})\n",
    "house['HasPool'] = np.where(house['HasPool']>0, 1, 0)"
   ]
  },
  {
   "cell_type": "code",
   "execution_count": 11,
   "metadata": {},
   "outputs": [
    {
     "data": {
      "text/plain": [
       "4"
      ]
     },
     "execution_count": 11,
     "metadata": {},
     "output_type": "execute_result"
    }
   ],
   "source": [
    "house['HasPool'].sum()"
   ]
  },
  {
   "cell_type": "code",
   "execution_count": 12,
   "metadata": {},
   "outputs": [],
   "source": [
    "house['Mo Sold'] = house['Mo Sold'].astype(str)\n",
    "house['MS SubClass'] = house['MS SubClass'].astype(str)\n",
    "x = {'Fireplace Qu':'NA'}\n",
    "house = house.fillna(value=x)\n",
    "x = {'Fence':'NA'}\n",
    "house = house.fillna(value=x)\n",
    "x = {'Misc Feature':'NA'}\n",
    "house = house.fillna(value=x)\n",
    "x = {'Alley':'NA'}\n",
    "house = house.fillna(value=x)\n",
    "x = {'Mas Vnr Type':'None'}\n",
    "house = house.fillna(value=x)\n",
    "x = {'Mas Vnr Area':0}\n",
    "house = house.fillna(value=x)\n",
    "x = {'Bsmt Full Bath':0}\n",
    "house = house.fillna(value=x)\n",
    "x = {'Bsmt Half Bath':0}\n",
    "house = house.fillna(value=x)\n",
    "x = {'Garage Type':'NA'}\n",
    "house = house.fillna(value=x)\n",
    "x = {'Garage Finish':'NA'}\n",
    "house = house.fillna(value=x)\n",
    "x = {'Garage Qual':'NA'}\n",
    "house = house.fillna(value=x)\n",
    "x = {'Garage Cond':'NA'}\n",
    "house = house.fillna(value=x)\n",
    "x = {'Bsmt Qual':'NA'}\n",
    "house = house.fillna(value=x)\n",
    "x = {'Bsmt Cond':'NA'}\n",
    "house = house.fillna(value=x)\n",
    "x = {'Bsmt Exposure':'NA'}\n",
    "house = house.fillna(value=x)\n",
    "x = {'BsmtFin Type 1':'NA'}\n",
    "house = house.fillna(value=x)\n",
    "x = {'BsmtFin Type 2':'NA'}\n",
    "house = house.fillna(value=x)\n",
    "house = house.drop(columns=['Garage Yr Blt'])\n",
    "house = house.drop(columns=['Lot Frontage'])"
   ]
  },
  {
   "cell_type": "code",
   "execution_count": 13,
   "metadata": {},
   "outputs": [],
   "source": [
    "house= house.drop(columns=['Pool QC'])"
   ]
  },
  {
   "cell_type": "code",
   "execution_count": 14,
   "metadata": {},
   "outputs": [],
   "source": [
    "x = {'BsmtFin Type 2':'Mix'}\n",
    "house = house.fillna(value=x)\n"
   ]
  },
  {
   "cell_type": "code",
   "execution_count": 15,
   "metadata": {},
   "outputs": [],
   "source": [
    "house_test_num = house[['Lot Area','Overall Qual','Overall Cond','Year Built','Year Remod/Add','Mas Vnr Area','BsmtFin SF 1','BsmtFin SF 2','Bsmt Unf SF','Total Bsmt SF','1st Flr SF','2nd Flr SF','Low Qual Fin SF','Gr Liv Area','Bsmt Full Bath','Bsmt Half Bath','Full Bath','Half Bath','Bedroom AbvGr','Kitchen AbvGr','TotRms AbvGrd','Fireplaces','Garage Cars','Garage Area','Wood Deck SF','Enclosed Porch','3Ssn Porch','Screen Porch','HasPool','Misc Val','Yr Sold']].copy() "
   ]
  },
  {
   "cell_type": "code",
   "execution_count": 16,
   "metadata": {},
   "outputs": [],
   "source": [
    "house_test_cat = house[['MS SubClass','MS Zoning','Street','Alley','Lot Shape','Land Contour','Utilities','Lot Config','Land Slope','Neighborhood','Condition 1','Condition 2','Bldg Type','House Style','Roof Style','Roof Matl','Exterior 1st','Exterior 2nd','Mas Vnr Type','Exter Qual','Exter Cond','Foundation','Bsmt Qual','Bsmt Exposure','BsmtFin Type 1','BsmtFin Type 2','Heating','Heating QC','Central Air','Electrical','Kitchen Qual','Functional','Fireplace Qu','Garage Type','Garage Finish','Garage Qual','Garage Cond','Paved Drive','Fence','Misc Feature','Sale Type','Mo Sold']].copy()"
   ]
  },
  {
   "cell_type": "code",
   "execution_count": 17,
   "metadata": {},
   "outputs": [
    {
     "data": {
      "text/html": [
       "<div>\n",
       "<style scoped>\n",
       "    .dataframe tbody tr th:only-of-type {\n",
       "        vertical-align: middle;\n",
       "    }\n",
       "\n",
       "    .dataframe tbody tr th {\n",
       "        vertical-align: top;\n",
       "    }\n",
       "\n",
       "    .dataframe thead th {\n",
       "        text-align: right;\n",
       "    }\n",
       "</style>\n",
       "<table border=\"1\" class=\"dataframe\">\n",
       "  <thead>\n",
       "    <tr style=\"text-align: right;\">\n",
       "      <th></th>\n",
       "      <th>Lot Area</th>\n",
       "      <th>Overall Qual</th>\n",
       "      <th>Overall Cond</th>\n",
       "      <th>Year Built</th>\n",
       "      <th>Year Remod/Add</th>\n",
       "      <th>Mas Vnr Area</th>\n",
       "      <th>BsmtFin SF 1</th>\n",
       "      <th>BsmtFin SF 2</th>\n",
       "      <th>Bsmt Unf SF</th>\n",
       "      <th>Total Bsmt SF</th>\n",
       "      <th>...</th>\n",
       "      <th>Fireplaces</th>\n",
       "      <th>Garage Cars</th>\n",
       "      <th>Garage Area</th>\n",
       "      <th>Wood Deck SF</th>\n",
       "      <th>Enclosed Porch</th>\n",
       "      <th>3Ssn Porch</th>\n",
       "      <th>Screen Porch</th>\n",
       "      <th>HasPool</th>\n",
       "      <th>Misc Val</th>\n",
       "      <th>Yr Sold</th>\n",
       "    </tr>\n",
       "  </thead>\n",
       "  <tbody>\n",
       "    <tr>\n",
       "      <th>0</th>\n",
       "      <td>-0.119395</td>\n",
       "      <td>-0.039744</td>\n",
       "      <td>2.158742</td>\n",
       "      <td>-1.992138</td>\n",
       "      <td>-1.684928</td>\n",
       "      <td>-0.567876</td>\n",
       "      <td>-1.002642</td>\n",
       "      <td>-0.301701</td>\n",
       "      <td>1.128313</td>\n",
       "      <td>-0.039976</td>\n",
       "      <td>...</td>\n",
       "      <td>-0.925183</td>\n",
       "      <td>-0.991066</td>\n",
       "      <td>-0.144789</td>\n",
       "      <td>-0.772558</td>\n",
       "      <td>1.202156</td>\n",
       "      <td>-0.104074</td>\n",
       "      <td>-0.279785</td>\n",
       "      <td>-0.067612</td>\n",
       "      <td>-0.088152</td>\n",
       "      <td>-1.375505</td>\n",
       "    </tr>\n",
       "    <tr>\n",
       "      <th>1</th>\n",
       "      <td>-0.067611</td>\n",
       "      <td>-0.767560</td>\n",
       "      <td>-1.388051</td>\n",
       "      <td>0.212808</td>\n",
       "      <td>-0.364176</td>\n",
       "      <td>-0.567876</td>\n",
       "      <td>-1.002642</td>\n",
       "      <td>-0.301701</td>\n",
       "      <td>3.352152</td>\n",
       "      <td>2.220060</td>\n",
       "      <td>...</td>\n",
       "      <td>-0.925183</td>\n",
       "      <td>0.340963</td>\n",
       "      <td>0.512645</td>\n",
       "      <td>0.631179</td>\n",
       "      <td>-0.328514</td>\n",
       "      <td>-0.104074</td>\n",
       "      <td>-0.279785</td>\n",
       "      <td>-0.067612</td>\n",
       "      <td>-0.088152</td>\n",
       "      <td>-1.375505</td>\n",
       "    </tr>\n",
       "    <tr>\n",
       "      <th>2</th>\n",
       "      <td>0.673505</td>\n",
       "      <td>0.688072</td>\n",
       "      <td>-0.501353</td>\n",
       "      <td>1.167188</td>\n",
       "      <td>1.054409</td>\n",
       "      <td>-0.567876</td>\n",
       "      <td>0.250104</td>\n",
       "      <td>-0.301701</td>\n",
       "      <td>-1.032121</td>\n",
       "      <td>-0.913443</td>\n",
       "      <td>...</td>\n",
       "      <td>0.569736</td>\n",
       "      <td>0.340963</td>\n",
       "      <td>-0.210533</td>\n",
       "      <td>0.053170</td>\n",
       "      <td>-0.328514</td>\n",
       "      <td>-0.104074</td>\n",
       "      <td>-0.279785</td>\n",
       "      <td>-0.067612</td>\n",
       "      <td>-0.088152</td>\n",
       "      <td>-1.375505</td>\n",
       "    </tr>\n",
       "    <tr>\n",
       "      <th>3</th>\n",
       "      <td>-0.181337</td>\n",
       "      <td>-0.767560</td>\n",
       "      <td>0.385345</td>\n",
       "      <td>-1.564313</td>\n",
       "      <td>1.054409</td>\n",
       "      <td>-0.567876</td>\n",
       "      <td>-1.002642</td>\n",
       "      <td>-0.301701</td>\n",
       "      <td>1.006202</td>\n",
       "      <td>-0.164075</td>\n",
       "      <td>...</td>\n",
       "      <td>-0.925183</td>\n",
       "      <td>0.340963</td>\n",
       "      <td>0.043049</td>\n",
       "      <td>-0.772558</td>\n",
       "      <td>2.186158</td>\n",
       "      <td>-0.104074</td>\n",
       "      <td>-0.279785</td>\n",
       "      <td>-0.067612</td>\n",
       "      <td>-0.088152</td>\n",
       "      <td>-0.621721</td>\n",
       "    </tr>\n",
       "    <tr>\n",
       "      <th>4</th>\n",
       "      <td>-0.083744</td>\n",
       "      <td>-0.039744</td>\n",
       "      <td>-0.501353</td>\n",
       "      <td>-0.247927</td>\n",
       "      <td>-1.049010</td>\n",
       "      <td>0.744718</td>\n",
       "      <td>0.374474</td>\n",
       "      <td>-0.301701</td>\n",
       "      <td>0.576463</td>\n",
       "      <td>0.852583</td>\n",
       "      <td>...</td>\n",
       "      <td>2.064656</td>\n",
       "      <td>0.340963</td>\n",
       "      <td>0.202712</td>\n",
       "      <td>-0.772558</td>\n",
       "      <td>-0.328514</td>\n",
       "      <td>-0.104074</td>\n",
       "      <td>3.214353</td>\n",
       "      <td>-0.067612</td>\n",
       "      <td>-0.088152</td>\n",
       "      <td>0.885846</td>\n",
       "    </tr>\n",
       "  </tbody>\n",
       "</table>\n",
       "<p>5 rows × 31 columns</p>\n",
       "</div>"
      ],
      "text/plain": [
       "   Lot Area  Overall Qual  Overall Cond  Year Built  Year Remod/Add  \\\n",
       "0 -0.119395     -0.039744      2.158742   -1.992138       -1.684928   \n",
       "1 -0.067611     -0.767560     -1.388051    0.212808       -0.364176   \n",
       "2  0.673505      0.688072     -0.501353    1.167188        1.054409   \n",
       "3 -0.181337     -0.767560      0.385345   -1.564313        1.054409   \n",
       "4 -0.083744     -0.039744     -0.501353   -0.247927       -1.049010   \n",
       "\n",
       "   Mas Vnr Area  BsmtFin SF 1  BsmtFin SF 2  Bsmt Unf SF  Total Bsmt SF  \\\n",
       "0     -0.567876     -1.002642     -0.301701     1.128313      -0.039976   \n",
       "1     -0.567876     -1.002642     -0.301701     3.352152       2.220060   \n",
       "2     -0.567876      0.250104     -0.301701    -1.032121      -0.913443   \n",
       "3     -0.567876     -1.002642     -0.301701     1.006202      -0.164075   \n",
       "4      0.744718      0.374474     -0.301701     0.576463       0.852583   \n",
       "\n",
       "     ...     Fireplaces  Garage Cars  Garage Area  Wood Deck SF  \\\n",
       "0    ...      -0.925183    -0.991066    -0.144789     -0.772558   \n",
       "1    ...      -0.925183     0.340963     0.512645      0.631179   \n",
       "2    ...       0.569736     0.340963    -0.210533      0.053170   \n",
       "3    ...      -0.925183     0.340963     0.043049     -0.772558   \n",
       "4    ...       2.064656     0.340963     0.202712     -0.772558   \n",
       "\n",
       "   Enclosed Porch  3Ssn Porch  Screen Porch   HasPool  Misc Val   Yr Sold  \n",
       "0        1.202156   -0.104074     -0.279785 -0.067612 -0.088152 -1.375505  \n",
       "1       -0.328514   -0.104074     -0.279785 -0.067612 -0.088152 -1.375505  \n",
       "2       -0.328514   -0.104074     -0.279785 -0.067612 -0.088152 -1.375505  \n",
       "3        2.186158   -0.104074     -0.279785 -0.067612 -0.088152 -0.621721  \n",
       "4       -0.328514   -0.104074      3.214353 -0.067612 -0.088152  0.885846  \n",
       "\n",
       "[5 rows x 31 columns]"
      ]
     },
     "execution_count": 17,
     "metadata": {},
     "output_type": "execute_result"
    }
   ],
   "source": [
    "scaler1 = StandardScaler()\n",
    "scaler1.fit(house_test_num)\n",
    "StandardScaler(copy=True, with_mean=True, with_std=True)\n",
    "temp = scaler1.fit_transform(house_test_num)\n",
    "house_test_scaled_num = pd.DataFrame(temp, index=house_test_num.index, columns=house_test_num.columns)\n",
    "house_test_scaled_num.head()"
   ]
  },
  {
   "cell_type": "code",
   "execution_count": 18,
   "metadata": {},
   "outputs": [],
   "source": [
    "dum_house_cat = pd.get_dummies(house_test_cat)"
   ]
  },
  {
   "cell_type": "code",
   "execution_count": 19,
   "metadata": {},
   "outputs": [],
   "source": [
    "house_test_mod = pd.concat([house_test_scaled_num, dum_house_cat], axis=1)"
   ]
  },
  {
   "cell_type": "code",
   "execution_count": 21,
   "metadata": {},
   "outputs": [],
   "source": [
    "house_test_mod.to_csv('test_filtered.csv')"
   ]
  }
 ],
 "metadata": {
  "kernelspec": {
   "display_name": "Python [conda env:anaconda3]",
   "language": "python",
   "name": "conda-env-anaconda3-py"
  },
  "language_info": {
   "codemirror_mode": {
    "name": "ipython",
    "version": 3
   },
   "file_extension": ".py",
   "mimetype": "text/x-python",
   "name": "python",
   "nbconvert_exporter": "python",
   "pygments_lexer": "ipython3",
   "version": "3.6.4"
  }
 },
 "nbformat": 4,
 "nbformat_minor": 2
}
