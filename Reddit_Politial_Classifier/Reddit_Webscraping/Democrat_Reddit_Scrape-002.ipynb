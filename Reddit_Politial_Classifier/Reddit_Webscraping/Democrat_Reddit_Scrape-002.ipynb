{
 "cells": [
  {
   "cell_type": "markdown",
   "metadata": {},
   "source": [
    "secret = \tdukF2bKVUFoY5Qe_1dgbFSXOdgs  \n",
    "\n",
    "name = Project3"
   ]
  },
  {
   "cell_type": "markdown",
   "metadata": {},
   "source": [
    "# For this project I need to access data from reddit.com to do this I have used the praw (python reddit api wrapper) module"
   ]
  },
  {
   "cell_type": "code",
   "execution_count": 1,
   "metadata": {},
   "outputs": [],
   "source": [
    "import pandas as pd\n",
    "import datetime"
   ]
  },
  {
   "cell_type": "code",
   "execution_count": 2,
   "metadata": {},
   "outputs": [],
   "source": [
    "import praw\n",
    "reddit = praw.Reddit(client_id = 'J2rO3dWP-D6wNw',\n",
    "                    client_secret ='dukF2bKVUFoY5Qe_1dgbFSXOdgs',\n",
    "                    username='DeadmanHS',\n",
    "                    password='Targus8046',\n",
    "                    user_agent='Day1')"
   ]
  },
  {
   "cell_type": "code",
   "execution_count": 3,
   "metadata": {},
   "outputs": [
    {
     "data": {
      "text/plain": [
       "1527873615.825748"
      ]
     },
     "execution_count": 3,
     "metadata": {},
     "output_type": "execute_result"
    }
   ],
   "source": [
    "datetime.datetime.timestamp(datetime.datetime.today())"
   ]
  },
  {
   "cell_type": "markdown",
   "metadata": {},
   "source": [
    "### ## Runs a for loop with the praw app that takes each reddit posts Title, Subreddit, Num_Comments, Time Since Created, Replies and Comments and save them as a Dicionary with Keys/values."
   ]
  },
  {
   "cell_type": "code",
   "execution_count": 4,
   "metadata": {},
   "outputs": [],
   "source": [
    "titlelist = []\n",
    "temp =int(datetime.datetime.timestamp(datetime.datetime.today()))\n",
    "for submission in reddit.subreddit('democrats').hot(limit=10000):\n",
    "    if not submission.stickied: \n",
    "        tempdict = {}\n",
    "        tempdict['Title'] = submission.title\n",
    "        tempdict['Subreddit'] = submission.subreddit\n",
    "        tempdict['num_comments']=submission.num_comments\n",
    "        now = temp\n",
    "        then = int(submission.created)\n",
    "        delta = abs(now - then)\n",
    "        tempdict['Time'] = delta\n",
    "        submission.comments.replace_more(limit=5000, threshold=0)\n",
    "        comments = submission.comments\n",
    "        templist = []\n",
    "        replylist=[]\n",
    "        for comment in comments:\n",
    "            templist.append(comment.body)\n",
    "            if len(comment.replies) > 0:\n",
    "                for reply in comment.replies:\n",
    "                    replylist.append(reply.body)\n",
    "        tempdict['Replies'] = replylist\n",
    "        tempdict['Comments'] = templist\n",
    "        titlelist.append(tempdict)\n",
    "    "
   ]
  },
  {
   "cell_type": "markdown",
   "metadata": {},
   "source": [
    "### Looks at the upvote ratio for the first 10 posts, this ends up not being a used feature"
   ]
  },
  {
   "cell_type": "code",
   "execution_count": 5,
   "metadata": {},
   "outputs": [
    {
     "name": "stdout",
     "output_type": "stream",
     "text": [
      "0.94\n",
      "0.69\n",
      "0.92\n",
      "0.91\n",
      "0.96\n",
      "0.92\n",
      "0.96\n",
      "0.94\n",
      "1.0\n",
      "0.85\n"
     ]
    }
   ],
   "source": [
    "for submission in reddit.subreddit('democrats').hot(limit=10):\n",
    "    print(submission.upvote_ratio)"
   ]
  },
  {
   "cell_type": "markdown",
   "metadata": {},
   "source": [
    "### Turns my data into a pandas dataframe"
   ]
  },
  {
   "cell_type": "code",
   "execution_count": 6,
   "metadata": {},
   "outputs": [
    {
     "data": {
      "text/html": [
       "<div>\n",
       "<style scoped>\n",
       "    .dataframe tbody tr th:only-of-type {\n",
       "        vertical-align: middle;\n",
       "    }\n",
       "\n",
       "    .dataframe tbody tr th {\n",
       "        vertical-align: top;\n",
       "    }\n",
       "\n",
       "    .dataframe thead th {\n",
       "        text-align: right;\n",
       "    }\n",
       "</style>\n",
       "<table border=\"1\" class=\"dataframe\">\n",
       "  <thead>\n",
       "    <tr style=\"text-align: right;\">\n",
       "      <th></th>\n",
       "      <th>Comments</th>\n",
       "      <th>Replies</th>\n",
       "      <th>Subreddit</th>\n",
       "      <th>Time</th>\n",
       "      <th>Title</th>\n",
       "      <th>num_comments</th>\n",
       "    </tr>\n",
       "  </thead>\n",
       "  <tbody>\n",
       "    <tr>\n",
       "      <th>0</th>\n",
       "      <td>[It also wasn't the worst thing she said that ...</td>\n",
       "      <td>[&gt;much ado about nothing\\n\\nVery clever, But.....</td>\n",
       "      <td>democrats</td>\n",
       "      <td>14310</td>\n",
       "      <td>Forget Samantha Bee—Donald Trump Has Called Wo...</td>\n",
       "      <td>11</td>\n",
       "    </tr>\n",
       "    <tr>\n",
       "      <th>1</th>\n",
       "      <td>[Now I know things can get heated but we reall...</td>\n",
       "      <td>[I mean, he feels that way too.  But because h...</td>\n",
       "      <td>democrats</td>\n",
       "      <td>24754</td>\n",
       "      <td>Jeffrey Lewis on Twitter: \"Donald Trump is pis...</td>\n",
       "      <td>8</td>\n",
       "    </tr>\n",
       "    <tr>\n",
       "      <th>2</th>\n",
       "      <td>[That raises the question of if he billed the ...</td>\n",
       "      <td>[A fair question that you already know the ans...</td>\n",
       "      <td>democrats</td>\n",
       "      <td>15620</td>\n",
       "      <td>Michael Skolnik on Twitter: \"Donald Trump didn...</td>\n",
       "      <td>5</td>\n",
       "    </tr>\n",
       "    <tr>\n",
       "      <th>3</th>\n",
       "      <td>[]</td>\n",
       "      <td>[]</td>\n",
       "      <td>democrats</td>\n",
       "      <td>8055</td>\n",
       "      <td>Donald Trump Continues to Make Robert Mueller’...</td>\n",
       "      <td>0</td>\n",
       "    </tr>\n",
       "    <tr>\n",
       "      <th>4</th>\n",
       "      <td>[I'll believe it when I see it.  Our history a...</td>\n",
       "      <td>[What are you doing? Are you registering voter...</td>\n",
       "      <td>democrats</td>\n",
       "      <td>18289</td>\n",
       "      <td>Trump war against Mueller will make Dem midter...</td>\n",
       "      <td>2</td>\n",
       "    </tr>\n",
       "    <tr>\n",
       "      <th>5</th>\n",
       "      <td>[Trump threw paper towels at the crowd. What m...</td>\n",
       "      <td>[Aren't there communist dictators who are know...</td>\n",
       "      <td>democrats</td>\n",
       "      <td>54344</td>\n",
       "      <td>Hillary: More than 4,600 lives lost in Puerto ...</td>\n",
       "      <td>130</td>\n",
       "    </tr>\n",
       "    <tr>\n",
       "      <th>6</th>\n",
       "      <td>[]</td>\n",
       "      <td>[]</td>\n",
       "      <td>democrats</td>\n",
       "      <td>12962</td>\n",
       "      <td>“One Will Be Guaranteed to Turn Out Like Me”: ...</td>\n",
       "      <td>0</td>\n",
       "    </tr>\n",
       "    <tr>\n",
       "      <th>7</th>\n",
       "      <td>[I'm sure Boehner would be another Rubio type ...</td>\n",
       "      <td>[Trump would have a field day with Boehner, th...</td>\n",
       "      <td>democrats</td>\n",
       "      <td>64680</td>\n",
       "      <td>Boehner: 'There is no Republican party. There’...</td>\n",
       "      <td>40</td>\n",
       "    </tr>\n",
       "    <tr>\n",
       "      <th>8</th>\n",
       "      <td>[it would be so sweet if all the mercedes owne...</td>\n",
       "      <td>[I’m in! Mine is bright turquoise, too!, He pr...</td>\n",
       "      <td>democrats</td>\n",
       "      <td>21442</td>\n",
       "      <td>Trump wants a total ban on German luxury car i...</td>\n",
       "      <td>4</td>\n",
       "    </tr>\n",
       "    <tr>\n",
       "      <th>9</th>\n",
       "      <td>[Trump is so dumb they'll have to call it chim...</td>\n",
       "      <td>[]</td>\n",
       "      <td>democrats</td>\n",
       "      <td>23162</td>\n",
       "      <td>'Art of the Deal' author claims Trump knows Mu...</td>\n",
       "      <td>1</td>\n",
       "    </tr>\n",
       "  </tbody>\n",
       "</table>\n",
       "</div>"
      ],
      "text/plain": [
       "                                            Comments  \\\n",
       "0  [It also wasn't the worst thing she said that ...   \n",
       "1  [Now I know things can get heated but we reall...   \n",
       "2  [That raises the question of if he billed the ...   \n",
       "3                                                 []   \n",
       "4  [I'll believe it when I see it.  Our history a...   \n",
       "5  [Trump threw paper towels at the crowd. What m...   \n",
       "6                                                 []   \n",
       "7  [I'm sure Boehner would be another Rubio type ...   \n",
       "8  [it would be so sweet if all the mercedes owne...   \n",
       "9  [Trump is so dumb they'll have to call it chim...   \n",
       "\n",
       "                                             Replies  Subreddit   Time  \\\n",
       "0  [>much ado about nothing\\n\\nVery clever, But.....  democrats  14310   \n",
       "1  [I mean, he feels that way too.  But because h...  democrats  24754   \n",
       "2  [A fair question that you already know the ans...  democrats  15620   \n",
       "3                                                 []  democrats   8055   \n",
       "4  [What are you doing? Are you registering voter...  democrats  18289   \n",
       "5  [Aren't there communist dictators who are know...  democrats  54344   \n",
       "6                                                 []  democrats  12962   \n",
       "7  [Trump would have a field day with Boehner, th...  democrats  64680   \n",
       "8  [I’m in! Mine is bright turquoise, too!, He pr...  democrats  21442   \n",
       "9                                                 []  democrats  23162   \n",
       "\n",
       "                                               Title  num_comments  \n",
       "0  Forget Samantha Bee—Donald Trump Has Called Wo...            11  \n",
       "1  Jeffrey Lewis on Twitter: \"Donald Trump is pis...             8  \n",
       "2  Michael Skolnik on Twitter: \"Donald Trump didn...             5  \n",
       "3  Donald Trump Continues to Make Robert Mueller’...             0  \n",
       "4  Trump war against Mueller will make Dem midter...             2  \n",
       "5  Hillary: More than 4,600 lives lost in Puerto ...           130  \n",
       "6  “One Will Be Guaranteed to Turn Out Like Me”: ...             0  \n",
       "7  Boehner: 'There is no Republican party. There’...            40  \n",
       "8  Trump wants a total ban on German luxury car i...             4  \n",
       "9  'Art of the Deal' author claims Trump knows Mu...             1  "
      ]
     },
     "execution_count": 6,
     "metadata": {},
     "output_type": "execute_result"
    }
   ],
   "source": [
    "Info = pd.DataFrame(titlelist)\n",
    "Info.head(10)"
   ]
  },
  {
   "cell_type": "code",
   "execution_count": 11,
   "metadata": {},
   "outputs": [
    {
     "data": {
      "text/plain": [
       "(994, 6)"
      ]
     },
     "execution_count": 11,
     "metadata": {},
     "output_type": "execute_result"
    }
   ],
   "source": [
    "Info.shape"
   ]
  },
  {
   "cell_type": "code",
   "execution_count": 12,
   "metadata": {},
   "outputs": [
    {
     "data": {
      "text/plain": [
       "Comments        0\n",
       "Replies         0\n",
       "Subreddit       0\n",
       "Time            0\n",
       "Title           0\n",
       "num_comments    0\n",
       "dtype: int64"
      ]
     },
     "execution_count": 12,
     "metadata": {},
     "output_type": "execute_result"
    }
   ],
   "source": [
    "Info.isnull().sum()"
   ]
  },
  {
   "cell_type": "code",
   "execution_count": 13,
   "metadata": {},
   "outputs": [
    {
     "data": {
      "text/plain": [
       "994"
      ]
     },
     "execution_count": 13,
     "metadata": {},
     "output_type": "execute_result"
    }
   ],
   "source": [
    "len(Info['Time'].unique())"
   ]
  },
  {
   "cell_type": "markdown",
   "metadata": {},
   "source": [
    "### Saved my dataframe to a CSV without an index"
   ]
  },
  {
   "cell_type": "code",
   "execution_count": 14,
   "metadata": {},
   "outputs": [],
   "source": [
    "Info.to_csv('Democrats.csv',index= False)"
   ]
  },
  {
   "cell_type": "code",
   "execution_count": null,
   "metadata": {},
   "outputs": [],
   "source": []
  }
 ],
 "metadata": {
  "kernelspec": {
   "display_name": "Python [conda env:anaconda3]",
   "language": "python",
   "name": "conda-env-anaconda3-py"
  },
  "language_info": {
   "codemirror_mode": {
    "name": "ipython",
    "version": 3
   },
   "file_extension": ".py",
   "mimetype": "text/x-python",
   "name": "python",
   "nbconvert_exporter": "python",
   "pygments_lexer": "ipython3",
   "version": "3.6.4"
  }
 },
 "nbformat": 4,
 "nbformat_minor": 2
}
