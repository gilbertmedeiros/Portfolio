{
 "cells": [
  {
   "cell_type": "code",
   "execution_count": 66,
   "metadata": {},
   "outputs": [],
   "source": [
    "import pandas as pd\n",
    "import os\n",
    "from sklearn.feature_extraction.text import TfidfVectorizer\n",
    "from sklearn.model_selection import train_test_split\n",
    "from sklearn.linear_model import LogisticRegression\n",
    "import pandas as pd\n",
    "import numpy as np\n",
    "from sklearn.model_selection import train_test_split, GridSearchCV\n",
    "from sklearn.ensemble import RandomForestClassifier\n",
    "import regex as re\n",
    "from nltk.corpus import stopwords\n",
    "from wordcloud import WordCloud\n",
    "import matplotlib.pyplot as plt\n",
    "os.chdir('/Users/gil/Desktop/notebooks/DSI-US-4/Project3')"
   ]
  },
  {
   "cell_type": "markdown",
   "metadata": {},
   "source": [
    "### Combining my 3 dataframes so that I can get all text for each post as 1 feature for NLP modeling"
   ]
  },
  {
   "cell_type": "code",
   "execution_count": 67,
   "metadata": {},
   "outputs": [],
   "source": [
    "reply = pd.read_csv('./replies_nlp.csv')\n",
    "title = pd.read_csv('./title_nlp.csv')\n",
    "com = pd.read_csv('./comment_nlp.csv')"
   ]
  },
  {
   "cell_type": "code",
   "execution_count": 68,
   "metadata": {},
   "outputs": [],
   "source": [
    "combined = pd.DataFrame(reply['Replies'])"
   ]
  },
  {
   "cell_type": "code",
   "execution_count": 69,
   "metadata": {},
   "outputs": [
    {
     "data": {
      "text/html": [
       "<div>\n",
       "<style scoped>\n",
       "    .dataframe tbody tr th:only-of-type {\n",
       "        vertical-align: middle;\n",
       "    }\n",
       "\n",
       "    .dataframe tbody tr th {\n",
       "        vertical-align: top;\n",
       "    }\n",
       "\n",
       "    .dataframe thead th {\n",
       "        text-align: right;\n",
       "    }\n",
       "</style>\n",
       "<table border=\"1\" class=\"dataframe\">\n",
       "  <thead>\n",
       "    <tr style=\"text-align: right;\">\n",
       "      <th></th>\n",
       "      <th>Title</th>\n",
       "      <th>class</th>\n",
       "    </tr>\n",
       "  </thead>\n",
       "  <tbody>\n",
       "    <tr>\n",
       "      <th>0</th>\n",
       "      <td>Forget Samantha Bee—Donald Trump Has Called Wo...</td>\n",
       "      <td>1</td>\n",
       "    </tr>\n",
       "    <tr>\n",
       "      <th>1</th>\n",
       "      <td>Jeffrey Lewis on Twitter: \"Donald Trump is pis...</td>\n",
       "      <td>1</td>\n",
       "    </tr>\n",
       "    <tr>\n",
       "      <th>2</th>\n",
       "      <td>Michael Skolnik on Twitter: \"Donald Trump didn...</td>\n",
       "      <td>1</td>\n",
       "    </tr>\n",
       "    <tr>\n",
       "      <th>3</th>\n",
       "      <td>Donald Trump Continues to Make Robert Mueller’...</td>\n",
       "      <td>1</td>\n",
       "    </tr>\n",
       "    <tr>\n",
       "      <th>4</th>\n",
       "      <td>Trump war against Mueller will make Dem midter...</td>\n",
       "      <td>1</td>\n",
       "    </tr>\n",
       "  </tbody>\n",
       "</table>\n",
       "</div>"
      ],
      "text/plain": [
       "                                               Title  class\n",
       "0  Forget Samantha Bee—Donald Trump Has Called Wo...      1\n",
       "1  Jeffrey Lewis on Twitter: \"Donald Trump is pis...      1\n",
       "2  Michael Skolnik on Twitter: \"Donald Trump didn...      1\n",
       "3  Donald Trump Continues to Make Robert Mueller’...      1\n",
       "4  Trump war against Mueller will make Dem midter...      1"
      ]
     },
     "execution_count": 69,
     "metadata": {},
     "output_type": "execute_result"
    }
   ],
   "source": [
    "title.head()"
   ]
  },
  {
   "cell_type": "code",
   "execution_count": 70,
   "metadata": {},
   "outputs": [],
   "source": [
    "combined['Title'] = title['Title']\n",
    "combined['comment']= com['Comments']\n",
    "combined['class'] = com['class']"
   ]
  },
  {
   "cell_type": "code",
   "execution_count": 71,
   "metadata": {},
   "outputs": [
    {
     "data": {
      "text/html": [
       "<div>\n",
       "<style scoped>\n",
       "    .dataframe tbody tr th:only-of-type {\n",
       "        vertical-align: middle;\n",
       "    }\n",
       "\n",
       "    .dataframe tbody tr th {\n",
       "        vertical-align: top;\n",
       "    }\n",
       "\n",
       "    .dataframe thead th {\n",
       "        text-align: right;\n",
       "    }\n",
       "</style>\n",
       "<table border=\"1\" class=\"dataframe\">\n",
       "  <thead>\n",
       "    <tr style=\"text-align: right;\">\n",
       "      <th></th>\n",
       "      <th>Replies</th>\n",
       "      <th>Title</th>\n",
       "      <th>comment</th>\n",
       "      <th>class</th>\n",
       "    </tr>\n",
       "  </thead>\n",
       "  <tbody>\n",
       "    <tr>\n",
       "      <th>0</th>\n",
       "      <td>['&gt;much ado about nothing\\n\\nVery clever', 'Bu...</td>\n",
       "      <td>Forget Samantha Bee—Donald Trump Has Called Wo...</td>\n",
       "      <td>[\"It also wasn't the worst thing she said that...</td>\n",
       "      <td>1</td>\n",
       "    </tr>\n",
       "    <tr>\n",
       "      <th>1</th>\n",
       "      <td>['I mean, he feels that way too.  But because ...</td>\n",
       "      <td>Jeffrey Lewis on Twitter: \"Donald Trump is pis...</td>\n",
       "      <td>['Now I know things can get heated but we real...</td>\n",
       "      <td>1</td>\n",
       "    </tr>\n",
       "    <tr>\n",
       "      <th>2</th>\n",
       "      <td>['A fair question that you already know the an...</td>\n",
       "      <td>Michael Skolnik on Twitter: \"Donald Trump didn...</td>\n",
       "      <td>['That raises the question of if he billed the...</td>\n",
       "      <td>1</td>\n",
       "    </tr>\n",
       "    <tr>\n",
       "      <th>3</th>\n",
       "      <td>[]</td>\n",
       "      <td>Donald Trump Continues to Make Robert Mueller’...</td>\n",
       "      <td>[]</td>\n",
       "      <td>1</td>\n",
       "    </tr>\n",
       "    <tr>\n",
       "      <th>4</th>\n",
       "      <td>['What are you doing? Are you registering vote...</td>\n",
       "      <td>Trump war against Mueller will make Dem midter...</td>\n",
       "      <td>[\"I'll believe it when I see it.  Our history ...</td>\n",
       "      <td>1</td>\n",
       "    </tr>\n",
       "  </tbody>\n",
       "</table>\n",
       "</div>"
      ],
      "text/plain": [
       "                                             Replies  \\\n",
       "0  ['>much ado about nothing\\n\\nVery clever', 'Bu...   \n",
       "1  ['I mean, he feels that way too.  But because ...   \n",
       "2  ['A fair question that you already know the an...   \n",
       "3                                                 []   \n",
       "4  ['What are you doing? Are you registering vote...   \n",
       "\n",
       "                                               Title  \\\n",
       "0  Forget Samantha Bee—Donald Trump Has Called Wo...   \n",
       "1  Jeffrey Lewis on Twitter: \"Donald Trump is pis...   \n",
       "2  Michael Skolnik on Twitter: \"Donald Trump didn...   \n",
       "3  Donald Trump Continues to Make Robert Mueller’...   \n",
       "4  Trump war against Mueller will make Dem midter...   \n",
       "\n",
       "                                             comment  class  \n",
       "0  [\"It also wasn't the worst thing she said that...      1  \n",
       "1  ['Now I know things can get heated but we real...      1  \n",
       "2  ['That raises the question of if he billed the...      1  \n",
       "3                                                 []      1  \n",
       "4  [\"I'll believe it when I see it.  Our history ...      1  "
      ]
     },
     "execution_count": 71,
     "metadata": {},
     "output_type": "execute_result"
    }
   ],
   "source": [
    "combined.head()"
   ]
  },
  {
   "cell_type": "code",
   "execution_count": 72,
   "metadata": {},
   "outputs": [],
   "source": [
    "combined['combined'] = combined['Replies'] + combined['Title'] + combined['comment']"
   ]
  },
  {
   "cell_type": "markdown",
   "metadata": {},
   "source": [
    "## For the remainder of this notebook the process is the same as Notebook 004 Comment NLP Model"
   ]
  },
  {
   "cell_type": "code",
   "execution_count": 73,
   "metadata": {},
   "outputs": [],
   "source": [
    "dem = combined.loc[combined['class'] == 1]\n",
    "repu = combined.loc[combined['class'] == 0]"
   ]
  },
  {
   "cell_type": "code",
   "execution_count": 74,
   "metadata": {},
   "outputs": [],
   "source": [
    "dem_freq = []\n",
    "for i in range(0,994):\n",
    "    dem_freq.append(dem['combined'][i])\n",
    "dem_freq_norm = []\n",
    "for i in range(0,994):\n",
    "    dem_freq_norm.append(re.sub(\"[^a-zA-Z]\",\" \",dem_freq[i] ))\n",
    "repu_freq = []\n",
    "for i in range(0,633):\n",
    "    repu_freq.append(dem['combined'][i])\n",
    "repu_freq_norm = []\n",
    "for i in range(0,633):\n",
    "    repu_freq_norm.append(re.sub(\"[^a-zA-Z]\",\" \",repu_freq[i] ))"
   ]
  },
  {
   "cell_type": "code",
   "execution_count": 75,
   "metadata": {},
   "outputs": [],
   "source": [
    "dem_str = (''.join(dem_freq_norm))\n",
    "words = dem_str.lower().split()\n",
    "stops = set(stopwords.words('english'))\n",
    "meaningful_words = [w for w in words if not w in stops]\n",
    "dem_str_2 = (\" \".join(meaningful_words))\n",
    "repu_str = (''.join(repu_freq_norm))\n",
    "words = repu_str.lower().split()\n",
    "stops = set(stopwords.words('english'))\n",
    "meaningful_words = [w for w in words if not w in stops]\n",
    "repu_str_2 = (\" \".join(meaningful_words))"
   ]
  },
  {
   "cell_type": "code",
   "execution_count": 76,
   "metadata": {},
   "outputs": [],
   "source": [
    "corpus = [dem_str_2,repu_str_2]"
   ]
  },
  {
   "cell_type": "code",
   "execution_count": 77,
   "metadata": {},
   "outputs": [
    {
     "data": {
      "text/html": [
       "<div>\n",
       "<style scoped>\n",
       "    .dataframe tbody tr th:only-of-type {\n",
       "        vertical-align: middle;\n",
       "    }\n",
       "\n",
       "    .dataframe tbody tr th {\n",
       "        vertical-align: top;\n",
       "    }\n",
       "\n",
       "    .dataframe thead th {\n",
       "        text-align: right;\n",
       "    }\n",
       "</style>\n",
       "<table border=\"1\" class=\"dataframe\">\n",
       "  <thead>\n",
       "    <tr style=\"text-align: right;\">\n",
       "      <th></th>\n",
       "      <th>Dem</th>\n",
       "      <th>Repu</th>\n",
       "    </tr>\n",
       "  </thead>\n",
       "  <tbody>\n",
       "    <tr>\n",
       "      <th>trump</th>\n",
       "      <td>0.500003</td>\n",
       "      <td>0.548384</td>\n",
       "    </tr>\n",
       "    <tr>\n",
       "      <th>people</th>\n",
       "      <td>0.226652</td>\n",
       "      <td>0.212050</td>\n",
       "    </tr>\n",
       "    <tr>\n",
       "      <th>like</th>\n",
       "      <td>0.206926</td>\n",
       "      <td>0.196035</td>\n",
       "    </tr>\n",
       "    <tr>\n",
       "      <th>xa</th>\n",
       "      <td>0.188810</td>\n",
       "      <td>0.238957</td>\n",
       "    </tr>\n",
       "    <tr>\n",
       "      <th>would</th>\n",
       "      <td>0.158616</td>\n",
       "      <td>0.153753</td>\n",
       "    </tr>\n",
       "    <tr>\n",
       "      <th>election</th>\n",
       "      <td>0.158214</td>\n",
       "      <td>0.130690</td>\n",
       "    </tr>\n",
       "    <tr>\n",
       "      <th>get</th>\n",
       "      <td>0.132851</td>\n",
       "      <td>0.136455</td>\n",
       "    </tr>\n",
       "    <tr>\n",
       "      <th>us</th>\n",
       "      <td>0.127215</td>\n",
       "      <td>0.110830</td>\n",
       "    </tr>\n",
       "    <tr>\n",
       "      <th>democrats</th>\n",
       "      <td>0.125202</td>\n",
       "      <td>0.119799</td>\n",
       "    </tr>\n",
       "    <tr>\n",
       "      <th>https</th>\n",
       "      <td>0.125202</td>\n",
       "      <td>0.105705</td>\n",
       "    </tr>\n",
       "    <tr>\n",
       "      <th>one</th>\n",
       "      <td>0.121981</td>\n",
       "      <td>0.112111</td>\n",
       "    </tr>\n",
       "    <tr>\n",
       "      <th>right</th>\n",
       "      <td>0.109904</td>\n",
       "      <td>0.096736</td>\n",
       "    </tr>\n",
       "    <tr>\n",
       "      <th>think</th>\n",
       "      <td>0.107891</td>\n",
       "      <td>0.094814</td>\n",
       "    </tr>\n",
       "    <tr>\n",
       "      <th>president</th>\n",
       "      <td>0.099034</td>\n",
       "      <td>0.099299</td>\n",
       "    </tr>\n",
       "    <tr>\n",
       "      <th>party</th>\n",
       "      <td>0.095009</td>\n",
       "      <td>0.090330</td>\n",
       "    </tr>\n",
       "    <tr>\n",
       "      <th>republicans</th>\n",
       "      <td>0.088165</td>\n",
       "      <td>0.072392</td>\n",
       "    </tr>\n",
       "    <tr>\n",
       "      <th>even</th>\n",
       "      <td>0.085749</td>\n",
       "      <td>0.074954</td>\n",
       "    </tr>\n",
       "    <tr>\n",
       "      <th>know</th>\n",
       "      <td>0.081724</td>\n",
       "      <td>0.069829</td>\n",
       "    </tr>\n",
       "    <tr>\n",
       "      <th>vote</th>\n",
       "      <td>0.081321</td>\n",
       "      <td>0.084564</td>\n",
       "    </tr>\n",
       "    <tr>\n",
       "      <th>time</th>\n",
       "      <td>0.080918</td>\n",
       "      <td>0.069829</td>\n",
       "    </tr>\n",
       "  </tbody>\n",
       "</table>\n",
       "</div>"
      ],
      "text/plain": [
       "                  Dem      Repu\n",
       "trump        0.500003  0.548384\n",
       "people       0.226652  0.212050\n",
       "like         0.206926  0.196035\n",
       "xa           0.188810  0.238957\n",
       "would        0.158616  0.153753\n",
       "election     0.158214  0.130690\n",
       "get          0.132851  0.136455\n",
       "us           0.127215  0.110830\n",
       "democrats    0.125202  0.119799\n",
       "https        0.125202  0.105705\n",
       "one          0.121981  0.112111\n",
       "right        0.109904  0.096736\n",
       "think        0.107891  0.094814\n",
       "president    0.099034  0.099299\n",
       "party        0.095009  0.090330\n",
       "republicans  0.088165  0.072392\n",
       "even         0.085749  0.074954\n",
       "know         0.081724  0.069829\n",
       "vote         0.081321  0.084564\n",
       "time         0.080918  0.069829"
      ]
     },
     "execution_count": 77,
     "metadata": {},
     "output_type": "execute_result"
    }
   ],
   "source": [
    "tvec = TfidfVectorizer()\n",
    "tvec.fit(corpus)\n",
    "df  = pd.DataFrame(tvec.transform(corpus).todense(),\n",
    "                   columns=tvec.get_feature_names(),\n",
    "                   index=['Dem', 'Repu'])\n",
    "\n",
    "df.transpose().sort_values('Dem', ascending=False).head(20)"
   ]
  },
  {
   "cell_type": "code",
   "execution_count": 93,
   "metadata": {},
   "outputs": [
    {
     "data": {
      "text/html": [
       "<div>\n",
       "<style scoped>\n",
       "    .dataframe tbody tr th:only-of-type {\n",
       "        vertical-align: middle;\n",
       "    }\n",
       "\n",
       "    .dataframe tbody tr th {\n",
       "        vertical-align: top;\n",
       "    }\n",
       "\n",
       "    .dataframe thead th {\n",
       "        text-align: right;\n",
       "    }\n",
       "</style>\n",
       "<table border=\"1\" class=\"dataframe\">\n",
       "  <thead>\n",
       "    <tr style=\"text-align: right;\">\n",
       "      <th></th>\n",
       "      <th>Dem</th>\n",
       "      <th>Repu</th>\n",
       "      <th>dif</th>\n",
       "    </tr>\n",
       "  </thead>\n",
       "  <tbody>\n",
       "    <tr>\n",
       "      <th>trump</th>\n",
       "      <td>0.500003</td>\n",
       "      <td>0.548384</td>\n",
       "      <td>0.048381</td>\n",
       "    </tr>\n",
       "    <tr>\n",
       "      <th>election</th>\n",
       "      <td>0.158214</td>\n",
       "      <td>0.130690</td>\n",
       "      <td>0.027524</td>\n",
       "    </tr>\n",
       "    <tr>\n",
       "      <th>https</th>\n",
       "      <td>0.125202</td>\n",
       "      <td>0.105705</td>\n",
       "      <td>0.019497</td>\n",
       "    </tr>\n",
       "    <tr>\n",
       "      <th>www</th>\n",
       "      <td>0.070854</td>\n",
       "      <td>0.051891</td>\n",
       "      <td>0.018962</td>\n",
       "    </tr>\n",
       "    <tr>\n",
       "      <th>us</th>\n",
       "      <td>0.127215</td>\n",
       "      <td>0.110830</td>\n",
       "      <td>0.016385</td>\n",
       "    </tr>\n",
       "    <tr>\n",
       "      <th>republicans</th>\n",
       "      <td>0.088165</td>\n",
       "      <td>0.072392</td>\n",
       "      <td>0.015773</td>\n",
       "    </tr>\n",
       "    <tr>\n",
       "      <th>mvp</th>\n",
       "      <td>0.043479</td>\n",
       "      <td>0.028829</td>\n",
       "      <td>0.014650</td>\n",
       "    </tr>\n",
       "    <tr>\n",
       "      <th>people</th>\n",
       "      <td>0.226652</td>\n",
       "      <td>0.212050</td>\n",
       "      <td>0.014601</td>\n",
       "    </tr>\n",
       "    <tr>\n",
       "      <th>bless</th>\n",
       "      <td>0.014145</td>\n",
       "      <td>0.000000</td>\n",
       "      <td>0.014145</td>\n",
       "    </tr>\n",
       "    <tr>\n",
       "      <th>gov</th>\n",
       "      <td>0.072464</td>\n",
       "      <td>0.058938</td>\n",
       "      <td>0.013526</td>\n",
       "    </tr>\n",
       "  </tbody>\n",
       "</table>\n",
       "</div>"
      ],
      "text/plain": [
       "                  Dem      Repu       dif\n",
       "trump        0.500003  0.548384  0.048381\n",
       "election     0.158214  0.130690  0.027524\n",
       "https        0.125202  0.105705  0.019497\n",
       "www          0.070854  0.051891  0.018962\n",
       "us           0.127215  0.110830  0.016385\n",
       "republicans  0.088165  0.072392  0.015773\n",
       "mvp          0.043479  0.028829  0.014650\n",
       "people       0.226652  0.212050  0.014601\n",
       "bless        0.014145  0.000000  0.014145\n",
       "gov          0.072464  0.058938  0.013526"
      ]
     },
     "execution_count": 93,
     "metadata": {},
     "output_type": "execute_result"
    }
   ],
   "source": [
    "sorted_df = df.transpose()\n",
    "sorted_df['dif'] = abs(sorted_df['Dem'] - sorted_df['Repu'])\n",
    "sorted_df.sort_values('dif', ascending=False)[1:11]"
   ]
  },
  {
   "cell_type": "code",
   "execution_count": 79,
   "metadata": {},
   "outputs": [
    {
     "data": {
      "image/png": "[encoded data removed]",
      "text/plain": [
       "<matplotlib.figure.Figure at 0x1a15560ac8>"
      ]
     },
     "metadata": {},
     "output_type": "display_data"
    }
   ],
   "source": [
    "wordcloud = WordCloud(max_words=50,\n",
    "                        background_color='cornflowerblue',\n",
    "                          width=1200,\n",
    "                          height=1000\n",
    "                         ).generate(dem_str_2)\n",
    "\n",
    "\n",
    "plt.imshow(wordcloud)\n",
    "plt.axis('off')\n",
    "plt.show()"
   ]
  },
  {
   "cell_type": "code",
   "execution_count": 80,
   "metadata": {},
   "outputs": [
    {
     "data": {
      "image/png": "[encoded data removed]",
      "text/plain": [
       "<matplotlib.figure.Figure at 0x1a0f411320>"
      ]
     },
     "metadata": {},
     "output_type": "display_data"
    }
   ],
   "source": [
    "wordcloud = WordCloud(max_words=50,\n",
    "                        background_color='lightcoral',\n",
    "                          width=1200,\n",
    "                          height=1000\n",
    "                         ).generate(repu_str_2)\n",
    "\n",
    "\n",
    "plt.imshow(wordcloud)\n",
    "plt.axis('off')\n",
    "plt.show()"
   ]
  },
  {
   "cell_type": "code",
   "execution_count": 84,
   "metadata": {},
   "outputs": [],
   "source": [
    "X = combined['combined']\n",
    "y = combined['class']"
   ]
  },
  {
   "cell_type": "code",
   "execution_count": 85,
   "metadata": {},
   "outputs": [],
   "source": [
    "X_train, X_test, y_train, y_test = train_test_split(X, y, test_size=0.33)\n",
    "tvec = TfidfVectorizer(stop_words='english')\n",
    "X_train_counts = tvec.fit_transform(X_train)\n",
    "X_test_counts = tvec.transform(X_test)"
   ]
  },
  {
   "cell_type": "code",
   "execution_count": 86,
   "metadata": {},
   "outputs": [
    {
     "name": "stdout",
     "output_type": "stream",
     "text": [
      "0.718348623853211\n",
      "{'C': 1000, 'penalty': 'l2'}\n"
     ]
    }
   ],
   "source": [
    "lr = LogisticRegression()\n",
    "log_params = {'penalty': ['l1','l2'], 'C': [0.001,0.01,0.1,1,10,100,1000]}\n",
    "gs=GridSearchCV(lr , param_grid=log_params)\n",
    "gs.fit(X_train_counts, y_train)\n",
    "print(gs.best_score_)\n",
    "print(gs.best_params_)"
   ]
  },
  {
   "cell_type": "code",
   "execution_count": 91,
   "metadata": {},
   "outputs": [
    {
     "data": {
      "text/plain": [
       "0.7318435754189944"
      ]
     },
     "execution_count": 91,
     "metadata": {},
     "output_type": "execute_result"
    }
   ],
   "source": [
    "log_reg = LogisticRegression(C=1000,penalty='l2')\n",
    "log_reg.fit(X_train_counts, y_train)\n",
    "log_reg.score(X_test_counts, y_test)"
   ]
  },
  {
   "cell_type": "code",
   "execution_count": 88,
   "metadata": {},
   "outputs": [
    {
     "name": "stdout",
     "output_type": "stream",
     "text": [
      "0.6412844036697247\n",
      "{'max_depth': None, 'max_features': 5, 'n_estimators': 10}\n"
     ]
    }
   ],
   "source": [
    "rf = RandomForestClassifier()\n",
    "rf_params = {'n_estimators': [5,6,7,8,9,10],'max_features':[2,3,4,5,6,7,8,9],'max_depth':[None,2,3,4]}\n",
    "gs = GridSearchCV(rf, param_grid=rf_params)\n",
    "gs.fit(X_train_counts,y_train)\n",
    "print(gs.best_score_)\n",
    "print(gs.best_params_)"
   ]
  },
  {
   "cell_type": "code",
   "execution_count": 90,
   "metadata": {},
   "outputs": [
    {
     "data": {
      "text/plain": [
       "0.62756052141527"
      ]
     },
     "execution_count": 90,
     "metadata": {},
     "output_type": "execute_result"
    }
   ],
   "source": [
    "rf_2 = RandomForestClassifier(max_depth=None,max_features=5,n_estimators=10)\n",
    "rf_2.fit(X_train_counts,y_train)\n",
    "rf_2.score(X_test_counts,y_test)"
   ]
  }
 ],
 "metadata": {
  "kernelspec": {
   "display_name": "Python [conda env:anaconda3]",
   "language": "python",
   "name": "conda-env-anaconda3-py"
  },
  "language_info": {
   "codemirror_mode": {
    "name": "ipython",
    "version": 3
   },
   "file_extension": ".py",
   "mimetype": "text/x-python",
   "name": "python",
   "nbconvert_exporter": "python",
   "pygments_lexer": "ipython3",
   "version": "3.6.4"
  }
 },
 "nbformat": 4,
 "nbformat_minor": 2
}
