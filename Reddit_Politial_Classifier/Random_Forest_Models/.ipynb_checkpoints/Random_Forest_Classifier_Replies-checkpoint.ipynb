{
 "cells": [
  {
   "cell_type": "code",
   "execution_count": 14,
   "metadata": {},
   "outputs": [],
   "source": [
    "import pandas as pd\n",
    "import os\n",
    "from sklearn.feature_extraction.text import TfidfVectorizer\n",
    "from sklearn.model_selection import train_test_split\n",
    "from sklearn.linear_model import LogisticRegression\n",
    "import pandas as pd\n",
    "import numpy as np\n",
    "from sklearn.model_selection import train_test_split, GridSearchCV\n",
    "from sklearn.ensemble import RandomForestClassifier\n",
    "import regex as re\n",
    "from nltk.corpus import stopwords\n",
    "from wordcloud import WordCloud\n",
    "import matplotlib.pyplot as plt\n",
    "os.chdir('/Users/gil/Desktop/notebooks/DSI-US-4/Project3')"
   ]
  },
  {
   "cell_type": "markdown",
   "metadata": {},
   "source": [
    "## Refer to the Comment NLP Model -004 for markdown as its the same process for this notebook"
   ]
  },
  {
   "cell_type": "code",
   "execution_count": 3,
   "metadata": {},
   "outputs": [],
   "source": [
    "reply = pd.read_csv('./replies_nlp.csv')"
   ]
  },
  {
   "cell_type": "code",
   "execution_count": 4,
   "metadata": {},
   "outputs": [
    {
     "data": {
      "text/html": [
       "<div>\n",
       "<style scoped>\n",
       "    .dataframe tbody tr th:only-of-type {\n",
       "        vertical-align: middle;\n",
       "    }\n",
       "\n",
       "    .dataframe tbody tr th {\n",
       "        vertical-align: top;\n",
       "    }\n",
       "\n",
       "    .dataframe thead th {\n",
       "        text-align: right;\n",
       "    }\n",
       "</style>\n",
       "<table border=\"1\" class=\"dataframe\">\n",
       "  <thead>\n",
       "    <tr style=\"text-align: right;\">\n",
       "      <th></th>\n",
       "      <th>Replies</th>\n",
       "      <th>class</th>\n",
       "    </tr>\n",
       "  </thead>\n",
       "  <tbody>\n",
       "    <tr>\n",
       "      <th>0</th>\n",
       "      <td>['&gt;much ado about nothing\\n\\nVery clever', 'Bu...</td>\n",
       "      <td>1</td>\n",
       "    </tr>\n",
       "    <tr>\n",
       "      <th>1</th>\n",
       "      <td>['I mean, he feels that way too.  But because ...</td>\n",
       "      <td>1</td>\n",
       "    </tr>\n",
       "    <tr>\n",
       "      <th>2</th>\n",
       "      <td>['A fair question that you already know the an...</td>\n",
       "      <td>1</td>\n",
       "    </tr>\n",
       "    <tr>\n",
       "      <th>3</th>\n",
       "      <td>[]</td>\n",
       "      <td>1</td>\n",
       "    </tr>\n",
       "    <tr>\n",
       "      <th>4</th>\n",
       "      <td>['What are you doing? Are you registering vote...</td>\n",
       "      <td>1</td>\n",
       "    </tr>\n",
       "  </tbody>\n",
       "</table>\n",
       "</div>"
      ],
      "text/plain": [
       "                                             Replies  class\n",
       "0  ['>much ado about nothing\\n\\nVery clever', 'Bu...      1\n",
       "1  ['I mean, he feels that way too.  But because ...      1\n",
       "2  ['A fair question that you already know the an...      1\n",
       "3                                                 []      1\n",
       "4  ['What are you doing? Are you registering vote...      1"
      ]
     },
     "execution_count": 4,
     "metadata": {},
     "output_type": "execute_result"
    }
   ],
   "source": [
    "reply.head()"
   ]
  },
  {
   "cell_type": "code",
   "execution_count": 6,
   "metadata": {},
   "outputs": [],
   "source": [
    "dem = reply.loc[reply['class'] == 1]\n",
    "repu = reply.loc[reply['class'] == 0]"
   ]
  },
  {
   "cell_type": "code",
   "execution_count": 8,
   "metadata": {},
   "outputs": [],
   "source": [
    "dem_freq = []\n",
    "for i in range(0,994):\n",
    "    dem_freq.append(dem['Replies'][i])\n",
    "dem_freq_norm = []\n",
    "for i in range(0,994):\n",
    "    dem_freq_norm.append(re.sub(\"[^a-zA-Z]\",\" \",dem_freq[i] ))\n",
    "repu_freq = []\n",
    "for i in range(0,633):\n",
    "    repu_freq.append(dem['Replies'][i])\n",
    "repu_freq_norm = []\n",
    "for i in range(0,633):\n",
    "    repu_freq_norm.append(re.sub(\"[^a-zA-Z]\",\" \",repu_freq[i] ))\n"
   ]
  },
  {
   "cell_type": "code",
   "execution_count": 9,
   "metadata": {},
   "outputs": [],
   "source": [
    "dem_str = (''.join(dem_freq_norm))\n",
    "words = dem_str.lower().split()\n",
    "stops = set(stopwords.words('english'))\n",
    "meaningful_words = [w for w in words if not w in stops]\n",
    "dem_str_2 = (\" \".join(meaningful_words))\n",
    "repu_str = (''.join(repu_freq_norm))\n",
    "words = repu_str.lower().split()\n",
    "stops = set(stopwords.words('english'))\n",
    "meaningful_words = [w for w in words if not w in stops]\n",
    "repu_str_2 = (\" \".join(meaningful_words))"
   ]
  },
  {
   "cell_type": "code",
   "execution_count": 10,
   "metadata": {},
   "outputs": [],
   "source": [
    "corpus = [dem_str_2,repu_str_2]"
   ]
  },
  {
   "cell_type": "code",
   "execution_count": 11,
   "metadata": {},
   "outputs": [
    {
     "data": {
      "text/html": [
       "<div>\n",
       "<style scoped>\n",
       "    .dataframe tbody tr th:only-of-type {\n",
       "        vertical-align: middle;\n",
       "    }\n",
       "\n",
       "    .dataframe tbody tr th {\n",
       "        vertical-align: top;\n",
       "    }\n",
       "\n",
       "    .dataframe thead th {\n",
       "        text-align: right;\n",
       "    }\n",
       "</style>\n",
       "<table border=\"1\" class=\"dataframe\">\n",
       "  <thead>\n",
       "    <tr style=\"text-align: right;\">\n",
       "      <th></th>\n",
       "      <th>Dem</th>\n",
       "      <th>Repu</th>\n",
       "    </tr>\n",
       "  </thead>\n",
       "  <tbody>\n",
       "    <tr>\n",
       "      <th>trump</th>\n",
       "      <td>0.334908</td>\n",
       "      <td>0.378903</td>\n",
       "    </tr>\n",
       "    <tr>\n",
       "      <th>people</th>\n",
       "      <td>0.300354</td>\n",
       "      <td>0.297557</td>\n",
       "    </tr>\n",
       "    <tr>\n",
       "      <th>like</th>\n",
       "      <td>0.259155</td>\n",
       "      <td>0.252602</td>\n",
       "    </tr>\n",
       "    <tr>\n",
       "      <th>would</th>\n",
       "      <td>0.180744</td>\n",
       "      <td>0.181959</td>\n",
       "    </tr>\n",
       "    <tr>\n",
       "      <th>right</th>\n",
       "      <td>0.167454</td>\n",
       "      <td>0.149849</td>\n",
       "    </tr>\n",
       "    <tr>\n",
       "      <th>think</th>\n",
       "      <td>0.151506</td>\n",
       "      <td>0.134864</td>\n",
       "    </tr>\n",
       "    <tr>\n",
       "      <th>get</th>\n",
       "      <td>0.150177</td>\n",
       "      <td>0.151989</td>\n",
       "    </tr>\n",
       "    <tr>\n",
       "      <th>one</th>\n",
       "      <td>0.139545</td>\n",
       "      <td>0.124160</td>\n",
       "    </tr>\n",
       "    <tr>\n",
       "      <th>democrats</th>\n",
       "      <td>0.119610</td>\n",
       "      <td>0.107035</td>\n",
       "    </tr>\n",
       "    <tr>\n",
       "      <th>us</th>\n",
       "      <td>0.112965</td>\n",
       "      <td>0.122020</td>\n",
       "    </tr>\n",
       "    <tr>\n",
       "      <th>even</th>\n",
       "      <td>0.106320</td>\n",
       "      <td>0.098472</td>\n",
       "    </tr>\n",
       "    <tr>\n",
       "      <th>know</th>\n",
       "      <td>0.103662</td>\n",
       "      <td>0.094191</td>\n",
       "    </tr>\n",
       "    <tr>\n",
       "      <th>party</th>\n",
       "      <td>0.102333</td>\n",
       "      <td>0.117738</td>\n",
       "    </tr>\n",
       "    <tr>\n",
       "      <th>gun</th>\n",
       "      <td>0.098346</td>\n",
       "      <td>0.087768</td>\n",
       "    </tr>\n",
       "    <tr>\n",
       "      <th>president</th>\n",
       "      <td>0.090372</td>\n",
       "      <td>0.081346</td>\n",
       "    </tr>\n",
       "    <tr>\n",
       "      <th>republicans</th>\n",
       "      <td>0.089043</td>\n",
       "      <td>0.066362</td>\n",
       "    </tr>\n",
       "    <tr>\n",
       "      <th>say</th>\n",
       "      <td>0.083727</td>\n",
       "      <td>0.081346</td>\n",
       "    </tr>\n",
       "    <tr>\n",
       "      <th>much</th>\n",
       "      <td>0.083727</td>\n",
       "      <td>0.081346</td>\n",
       "    </tr>\n",
       "    <tr>\n",
       "      <th>see</th>\n",
       "      <td>0.083727</td>\n",
       "      <td>0.077065</td>\n",
       "    </tr>\n",
       "    <tr>\n",
       "      <th>make</th>\n",
       "      <td>0.083727</td>\n",
       "      <td>0.102753</td>\n",
       "    </tr>\n",
       "  </tbody>\n",
       "</table>\n",
       "</div>"
      ],
      "text/plain": [
       "                  Dem      Repu\n",
       "trump        0.334908  0.378903\n",
       "people       0.300354  0.297557\n",
       "like         0.259155  0.252602\n",
       "would        0.180744  0.181959\n",
       "right        0.167454  0.149849\n",
       "think        0.151506  0.134864\n",
       "get          0.150177  0.151989\n",
       "one          0.139545  0.124160\n",
       "democrats    0.119610  0.107035\n",
       "us           0.112965  0.122020\n",
       "even         0.106320  0.098472\n",
       "know         0.103662  0.094191\n",
       "party        0.102333  0.117738\n",
       "gun          0.098346  0.087768\n",
       "president    0.090372  0.081346\n",
       "republicans  0.089043  0.066362\n",
       "say          0.083727  0.081346\n",
       "much         0.083727  0.081346\n",
       "see          0.083727  0.077065\n",
       "make         0.083727  0.102753"
      ]
     },
     "execution_count": 11,
     "metadata": {},
     "output_type": "execute_result"
    }
   ],
   "source": [
    "tvec = TfidfVectorizer()\n",
    "tvec.fit(corpus)\n",
    "df  = pd.DataFrame(tvec.transform(corpus).todense(),\n",
    "                   columns=tvec.get_feature_names(),\n",
    "                   index=['Dem', 'Repu'])\n",
    "\n",
    "df.transpose().sort_values('Dem', ascending=False).head(20)"
   ]
  },
  {
   "cell_type": "code",
   "execution_count": 12,
   "metadata": {},
   "outputs": [
    {
     "data": {
      "text/html": [
       "<div>\n",
       "<style scoped>\n",
       "    .dataframe tbody tr th:only-of-type {\n",
       "        vertical-align: middle;\n",
       "    }\n",
       "\n",
       "    .dataframe tbody tr th {\n",
       "        vertical-align: top;\n",
       "    }\n",
       "\n",
       "    .dataframe thead th {\n",
       "        text-align: right;\n",
       "    }\n",
       "</style>\n",
       "<table border=\"1\" class=\"dataframe\">\n",
       "  <thead>\n",
       "    <tr style=\"text-align: right;\">\n",
       "      <th></th>\n",
       "      <th>Dem</th>\n",
       "      <th>Repu</th>\n",
       "      <th>dif</th>\n",
       "    </tr>\n",
       "  </thead>\n",
       "  <tbody>\n",
       "    <tr>\n",
       "      <th>trump</th>\n",
       "      <td>0.334908</td>\n",
       "      <td>0.378903</td>\n",
       "      <td>0.043995</td>\n",
       "    </tr>\n",
       "    <tr>\n",
       "      <th>republicans</th>\n",
       "      <td>0.089043</td>\n",
       "      <td>0.066362</td>\n",
       "      <td>0.022681</td>\n",
       "    </tr>\n",
       "    <tr>\n",
       "      <th>make</th>\n",
       "      <td>0.083727</td>\n",
       "      <td>0.102753</td>\n",
       "      <td>0.019026</td>\n",
       "    </tr>\n",
       "    <tr>\n",
       "      <th>policy</th>\n",
       "      <td>0.037212</td>\n",
       "      <td>0.055658</td>\n",
       "      <td>0.018446</td>\n",
       "    </tr>\n",
       "    <tr>\n",
       "      <th>nhttps</th>\n",
       "      <td>0.033225</td>\n",
       "      <td>0.014985</td>\n",
       "      <td>0.018240</td>\n",
       "    </tr>\n",
       "    <tr>\n",
       "      <th>go</th>\n",
       "      <td>0.078411</td>\n",
       "      <td>0.096331</td>\n",
       "      <td>0.017920</td>\n",
       "    </tr>\n",
       "    <tr>\n",
       "      <th>right</th>\n",
       "      <td>0.167454</td>\n",
       "      <td>0.149849</td>\n",
       "      <td>0.017605</td>\n",
       "    </tr>\n",
       "    <tr>\n",
       "      <th>two</th>\n",
       "      <td>0.034554</td>\n",
       "      <td>0.017126</td>\n",
       "      <td>0.017428</td>\n",
       "    </tr>\n",
       "    <tr>\n",
       "      <th>political</th>\n",
       "      <td>0.038541</td>\n",
       "      <td>0.021407</td>\n",
       "      <td>0.017134</td>\n",
       "    </tr>\n",
       "    <tr>\n",
       "      <th>want</th>\n",
       "      <td>0.066450</td>\n",
       "      <td>0.083487</td>\n",
       "      <td>0.017037</td>\n",
       "    </tr>\n",
       "  </tbody>\n",
       "</table>\n",
       "</div>"
      ],
      "text/plain": [
       "                  Dem      Repu       dif\n",
       "trump        0.334908  0.378903  0.043995\n",
       "republicans  0.089043  0.066362  0.022681\n",
       "make         0.083727  0.102753  0.019026\n",
       "policy       0.037212  0.055658  0.018446\n",
       "nhttps       0.033225  0.014985  0.018240\n",
       "go           0.078411  0.096331  0.017920\n",
       "right        0.167454  0.149849  0.017605\n",
       "two          0.034554  0.017126  0.017428\n",
       "political    0.038541  0.021407  0.017134\n",
       "want         0.066450  0.083487  0.017037"
      ]
     },
     "execution_count": 12,
     "metadata": {},
     "output_type": "execute_result"
    }
   ],
   "source": [
    "sorted_df = df.transpose()\n",
    "sorted_df['dif'] = abs(sorted_df['Dem'] - sorted_df['Repu'])\n",
    "sorted_df.sort_values('dif', ascending=False).head(10)"
   ]
  },
  {
   "cell_type": "code",
   "execution_count": 15,
   "metadata": {},
   "outputs": [
    {
     "data": {
      "image/png": "[encoded data removed]",
      "text/plain": [
       "<matplotlib.figure.Figure at 0x1a09ea1cf8>"
      ]
     },
     "metadata": {},
     "output_type": "display_data"
    }
   ],
   "source": [
    "wordcloud = WordCloud(max_words=50,\n",
    "                        background_color='cornflowerblue',\n",
    "                          width=1200,\n",
    "                          height=1000\n",
    "                         ).generate(dem_str_2)\n",
    "\n",
    "\n",
    "plt.imshow(wordcloud)\n",
    "plt.axis('off')\n",
    "plt.show()"
   ]
  },
  {
   "cell_type": "code",
   "execution_count": 16,
   "metadata": {},
   "outputs": [
    {
     "data": {
      "image/png": "[encoded data removed]",
      "text/plain": [
       "<matplotlib.figure.Figure at 0x1a107794a8>"
      ]
     },
     "metadata": {},
     "output_type": "display_data"
    }
   ],
   "source": [
    "wordcloud = WordCloud(max_words=50,\n",
    "                        background_color='lightcoral',\n",
    "                          width=1200,\n",
    "                          height=1000\n",
    "                         ).generate(repu_str_2)\n",
    "\n",
    "\n",
    "plt.imshow(wordcloud)\n",
    "plt.axis('off')\n",
    "plt.show()"
   ]
  },
  {
   "cell_type": "code",
   "execution_count": 25,
   "metadata": {},
   "outputs": [],
   "source": [
    "X = title['Replies']\n",
    "y = title['class']"
   ]
  },
  {
   "cell_type": "code",
   "execution_count": 31,
   "metadata": {},
   "outputs": [
    {
     "name": "stderr",
     "output_type": "stream",
     "text": [
      "/anaconda3/lib/python3.6/site-packages/ipykernel/__main__.py:2: SettingWithCopyWarning: \n",
      "A value is trying to be set on a copy of a slice from a DataFrame\n",
      "\n",
      "See the caveats in the documentation: http://pandas.pydata.org/pandas-docs/stable/indexing.html#indexing-view-versus-copy\n",
      "  from ipykernel import kernelapp as app\n"
     ]
    }
   ],
   "source": [
    "for i in range(0,1627):\n",
    "    X[i] = re.sub(\"[^a-zA-Z]\",\" \",X[i].lower())"
   ]
  },
  {
   "cell_type": "code",
   "execution_count": 26,
   "metadata": {},
   "outputs": [],
   "source": [
    "\n",
    "X_train, X_test, y_train, y_test = train_test_split(X, y, test_size=0.33)\n",
    "tvec = TfidfVectorizer(stop_words='english')\n",
    "X_train_counts = tvec.fit_transform(X_train)\n",
    "X_test_counts = tvec.transform(X_test)"
   ]
  },
  {
   "cell_type": "code",
   "execution_count": 27,
   "metadata": {},
   "outputs": [
    {
     "name": "stdout",
     "output_type": "stream",
     "text": [
      "0.6100917431192661\n",
      "{'C': 1, 'penalty': 'l2'}\n"
     ]
    }
   ],
   "source": [
    "lr = LogisticRegression()\n",
    "log_params = {'penalty': ['l1','l2'], 'C': [0.001,0.01,0.1,1,10,100,1000]}\n",
    "gs=GridSearchCV(lr , param_grid=log_params)\n",
    "gs.fit(X_train_counts, y_train)\n",
    "print(gs.best_score_)\n",
    "print(gs.best_params_)"
   ]
  },
  {
   "cell_type": "code",
   "execution_count": 22,
   "metadata": {},
   "outputs": [
    {
     "data": {
      "text/plain": [
       "0.62756052141527"
      ]
     },
     "execution_count": 22,
     "metadata": {},
     "output_type": "execute_result"
    }
   ],
   "source": [
    "log_reg = LogisticRegression(C=100,penalty='l2')\n",
    "log_reg.fit(X_train_counts, y_train)\n",
    "log_reg.score(X_test_counts, y_test)"
   ]
  },
  {
   "cell_type": "code",
   "execution_count": 23,
   "metadata": {},
   "outputs": [
    {
     "name": "stdout",
     "output_type": "stream",
     "text": [
      "0.6302752293577981\n",
      "{'max_depth': None, 'max_features': 5, 'n_estimators': 6}\n"
     ]
    }
   ],
   "source": [
    "rf = RandomForestClassifier()\n",
    "rf_params = {'n_estimators': [5,6,7,8,9,10],'max_features':[2,3,4,5,6,7,8,9],'max_depth':[None,2,3,4]}\n",
    "gs = GridSearchCV(rf, param_grid=rf_params)\n",
    "gs.fit(X_train_counts,y_train)\n",
    "print(gs.best_score_)\n",
    "print(gs.best_params_)"
   ]
  },
  {
   "cell_type": "code",
   "execution_count": 24,
   "metadata": {},
   "outputs": [
    {
     "data": {
      "text/plain": [
       "0.5940409683426443"
      ]
     },
     "execution_count": 24,
     "metadata": {},
     "output_type": "execute_result"
    }
   ],
   "source": [
    "rf_2 = RandomForestClassifier(max_depth=None,max_features=9,n_estimators=9)\n",
    "rf_2.fit(X_train_counts,y_train)\n",
    "rf_2.score(X_test_counts,y_test)"
   ]
  }
 ],
 "metadata": {
  "kernelspec": {
   "display_name": "Python [conda env:anaconda3]",
   "language": "python",
   "name": "conda-env-anaconda3-py"
  },
  "language_info": {
   "codemirror_mode": {
    "name": "ipython",
    "version": 3
   },
   "file_extension": ".py",
   "mimetype": "text/x-python",
   "name": "python",
   "nbconvert_exporter": "python",
   "pygments_lexer": "ipython3",
   "version": "3.6.4"
  }
 },
 "nbformat": 4,
 "nbformat_minor": 2
}
