{
 "cells": [
  {
   "cell_type": "code",
   "execution_count": 8,
   "metadata": {},
   "outputs": [],
   "source": [
    "import pandas as pd\n",
    "import os\n",
    "from sklearn.feature_extraction.text import TfidfVectorizer\n",
    "from sklearn.model_selection import train_test_split\n",
    "from sklearn.linear_model import LogisticRegression\n",
    "import pandas as pd\n",
    "import numpy as np\n",
    "from sklearn.model_selection import train_test_split, GridSearchCV\n",
    "from sklearn.ensemble import RandomForestClassifier\n",
    "import regex as re\n",
    "from nltk.corpus import stopwords\n",
    "from wordcloud import WordCloud\n",
    "import matplotlib.pyplot as plt\n",
    "os.chdir('/Users/gil/Desktop/notebooks/DSI-US-4/Project3')"
   ]
  },
  {
   "cell_type": "markdown",
   "metadata": {},
   "source": [
    "## Refer to the Comment NLP Model -004 for markdown as its the same process for this notebook"
   ]
  },
  {
   "cell_type": "code",
   "execution_count": 9,
   "metadata": {},
   "outputs": [],
   "source": [
    "title = pd.read_csv('./title_nlp.csv')"
   ]
  },
  {
   "cell_type": "code",
   "execution_count": 10,
   "metadata": {},
   "outputs": [],
   "source": [
    "dem = title.loc[title['class'] == 1]\n",
    "repu = title.loc[title['class'] == 0]"
   ]
  },
  {
   "cell_type": "code",
   "execution_count": 11,
   "metadata": {},
   "outputs": [],
   "source": [
    "dem_freq = []\n",
    "for i in range(0,994):\n",
    "    dem_freq.append(dem['Title'][i])"
   ]
  },
  {
   "cell_type": "code",
   "execution_count": 12,
   "metadata": {},
   "outputs": [],
   "source": [
    "dem_freq_norm = []\n",
    "for i in range(0,994):\n",
    "    dem_freq_norm.append(re.sub(\"[^a-zA-Z]\",\" \",dem_freq[i] ))"
   ]
  },
  {
   "cell_type": "code",
   "execution_count": 13,
   "metadata": {},
   "outputs": [],
   "source": [
    "repu_freq = []\n",
    "for i in range(0,633):\n",
    "    repu_freq.append(dem['Title'][i])"
   ]
  },
  {
   "cell_type": "code",
   "execution_count": 14,
   "metadata": {},
   "outputs": [],
   "source": [
    "repu_freq_norm = []\n",
    "for i in range(0,633):\n",
    "    repu_freq_norm.append(re.sub(\"[^a-zA-Z]\",\" \",repu_freq[i] ))"
   ]
  },
  {
   "cell_type": "code",
   "execution_count": 32,
   "metadata": {},
   "outputs": [],
   "source": [
    "dem_str = (''.join(dem_freq_norm))\n",
    "words = dem_str.lower().split()\n",
    "stops = set(stopwords.words('english'))\n",
    "meaningful_words = [w for w in words if not w in stops]\n",
    "dem_str_2 = (\" \".join(meaningful_words))"
   ]
  },
  {
   "cell_type": "code",
   "execution_count": 33,
   "metadata": {},
   "outputs": [],
   "source": [
    "repu_str = (''.join(repu_freq_norm))\n",
    "words = repu_str.lower().split()\n",
    "stops = set(stopwords.words('english'))\n",
    "meaningful_words = [w for w in words if not w in stops]\n",
    "repu_str_2 = (\" \".join(meaningful_words))"
   ]
  },
  {
   "cell_type": "code",
   "execution_count": 34,
   "metadata": {},
   "outputs": [],
   "source": [
    "corpus = [dem_str_2,repu_str_2]"
   ]
  },
  {
   "cell_type": "code",
   "execution_count": 35,
   "metadata": {},
   "outputs": [
    {
     "data": {
      "text/html": [
       "<div>\n",
       "<style scoped>\n",
       "    .dataframe tbody tr th:only-of-type {\n",
       "        vertical-align: middle;\n",
       "    }\n",
       "\n",
       "    .dataframe tbody tr th {\n",
       "        vertical-align: top;\n",
       "    }\n",
       "\n",
       "    .dataframe thead th {\n",
       "        text-align: right;\n",
       "    }\n",
       "</style>\n",
       "<table border=\"1\" class=\"dataframe\">\n",
       "  <thead>\n",
       "    <tr style=\"text-align: right;\">\n",
       "      <th></th>\n",
       "      <th>Dem</th>\n",
       "      <th>Repu</th>\n",
       "    </tr>\n",
       "  </thead>\n",
       "  <tbody>\n",
       "    <tr>\n",
       "      <th>trump</th>\n",
       "      <td>0.803723</td>\n",
       "      <td>0.823741</td>\n",
       "    </tr>\n",
       "    <tr>\n",
       "      <th>democrats</th>\n",
       "      <td>0.162823</td>\n",
       "      <td>0.134488</td>\n",
       "    </tr>\n",
       "    <tr>\n",
       "      <th>president</th>\n",
       "      <td>0.143769</td>\n",
       "      <td>0.153701</td>\n",
       "    </tr>\n",
       "    <tr>\n",
       "      <th>house</th>\n",
       "      <td>0.121251</td>\n",
       "      <td>0.108071</td>\n",
       "    </tr>\n",
       "    <tr>\n",
       "      <th>donald</th>\n",
       "      <td>0.095269</td>\n",
       "      <td>0.096063</td>\n",
       "    </tr>\n",
       "    <tr>\n",
       "      <th>mueller</th>\n",
       "      <td>0.086608</td>\n",
       "      <td>0.074449</td>\n",
       "    </tr>\n",
       "    <tr>\n",
       "      <th>twitter</th>\n",
       "      <td>0.084876</td>\n",
       "      <td>0.098465</td>\n",
       "    </tr>\n",
       "    <tr>\n",
       "      <th>campaign</th>\n",
       "      <td>0.079679</td>\n",
       "      <td>0.086457</td>\n",
       "    </tr>\n",
       "    <tr>\n",
       "      <th>white</th>\n",
       "      <td>0.079679</td>\n",
       "      <td>0.072047</td>\n",
       "    </tr>\n",
       "    <tr>\n",
       "      <th>us</th>\n",
       "      <td>0.077947</td>\n",
       "      <td>0.055236</td>\n",
       "    </tr>\n",
       "    <tr>\n",
       "      <th>one</th>\n",
       "      <td>0.071019</td>\n",
       "      <td>0.067244</td>\n",
       "    </tr>\n",
       "    <tr>\n",
       "      <th>new</th>\n",
       "      <td>0.069287</td>\n",
       "      <td>0.048032</td>\n",
       "    </tr>\n",
       "    <tr>\n",
       "      <th>fbi</th>\n",
       "      <td>0.069287</td>\n",
       "      <td>0.096063</td>\n",
       "    </tr>\n",
       "    <tr>\n",
       "      <th>democratic</th>\n",
       "      <td>0.069287</td>\n",
       "      <td>0.057638</td>\n",
       "    </tr>\n",
       "    <tr>\n",
       "      <th>russia</th>\n",
       "      <td>0.067554</td>\n",
       "      <td>0.086457</td>\n",
       "    </tr>\n",
       "    <tr>\n",
       "      <th>like</th>\n",
       "      <td>0.065822</td>\n",
       "      <td>0.064843</td>\n",
       "    </tr>\n",
       "    <tr>\n",
       "      <th>people</th>\n",
       "      <td>0.064090</td>\n",
       "      <td>0.064843</td>\n",
       "    </tr>\n",
       "    <tr>\n",
       "      <th>republicans</th>\n",
       "      <td>0.062358</td>\n",
       "      <td>0.050433</td>\n",
       "    </tr>\n",
       "    <tr>\n",
       "      <th>time</th>\n",
       "      <td>0.060626</td>\n",
       "      <td>0.048032</td>\n",
       "    </tr>\n",
       "    <tr>\n",
       "      <th>says</th>\n",
       "      <td>0.058894</td>\n",
       "      <td>0.050433</td>\n",
       "    </tr>\n",
       "  </tbody>\n",
       "</table>\n",
       "</div>"
      ],
      "text/plain": [
       "                  Dem      Repu\n",
       "trump        0.803723  0.823741\n",
       "democrats    0.162823  0.134488\n",
       "president    0.143769  0.153701\n",
       "house        0.121251  0.108071\n",
       "donald       0.095269  0.096063\n",
       "mueller      0.086608  0.074449\n",
       "twitter      0.084876  0.098465\n",
       "campaign     0.079679  0.086457\n",
       "white        0.079679  0.072047\n",
       "us           0.077947  0.055236\n",
       "one          0.071019  0.067244\n",
       "new          0.069287  0.048032\n",
       "fbi          0.069287  0.096063\n",
       "democratic   0.069287  0.057638\n",
       "russia       0.067554  0.086457\n",
       "like         0.065822  0.064843\n",
       "people       0.064090  0.064843\n",
       "republicans  0.062358  0.050433\n",
       "time         0.060626  0.048032\n",
       "says         0.058894  0.050433"
      ]
     },
     "execution_count": 35,
     "metadata": {},
     "output_type": "execute_result"
    }
   ],
   "source": [
    "tvec = TfidfVectorizer()\n",
    "tvec.fit(corpus)\n",
    "df  = pd.DataFrame(tvec.transform(corpus).todense(),\n",
    "                   columns=tvec.get_feature_names(),\n",
    "                   index=['Dem', 'Repu'])\n",
    "\n",
    "df.transpose().sort_values('Dem', ascending=False).head(20)"
   ]
  },
  {
   "cell_type": "code",
   "execution_count": 36,
   "metadata": {},
   "outputs": [
    {
     "data": {
      "text/html": [
       "<div>\n",
       "<style scoped>\n",
       "    .dataframe tbody tr th:only-of-type {\n",
       "        vertical-align: middle;\n",
       "    }\n",
       "\n",
       "    .dataframe tbody tr th {\n",
       "        vertical-align: top;\n",
       "    }\n",
       "\n",
       "    .dataframe thead th {\n",
       "        text-align: right;\n",
       "    }\n",
       "</style>\n",
       "<table border=\"1\" class=\"dataframe\">\n",
       "  <thead>\n",
       "    <tr style=\"text-align: right;\">\n",
       "      <th></th>\n",
       "      <th>Dem</th>\n",
       "      <th>Repu</th>\n",
       "      <th>dif</th>\n",
       "    </tr>\n",
       "  </thead>\n",
       "  <tbody>\n",
       "    <tr>\n",
       "      <th>democrats</th>\n",
       "      <td>0.162823</td>\n",
       "      <td>0.134488</td>\n",
       "      <td>0.028335</td>\n",
       "    </tr>\n",
       "    <tr>\n",
       "      <th>fbi</th>\n",
       "      <td>0.069287</td>\n",
       "      <td>0.096063</td>\n",
       "      <td>0.026777</td>\n",
       "    </tr>\n",
       "    <tr>\n",
       "      <th>iran</th>\n",
       "      <td>0.036375</td>\n",
       "      <td>0.012008</td>\n",
       "      <td>0.024368</td>\n",
       "    </tr>\n",
       "    <tr>\n",
       "      <th>us</th>\n",
       "      <td>0.077947</td>\n",
       "      <td>0.055236</td>\n",
       "      <td>0.022711</td>\n",
       "    </tr>\n",
       "    <tr>\n",
       "      <th>gop</th>\n",
       "      <td>0.055429</td>\n",
       "      <td>0.033622</td>\n",
       "      <td>0.021807</td>\n",
       "    </tr>\n",
       "    <tr>\n",
       "      <th>new</th>\n",
       "      <td>0.069287</td>\n",
       "      <td>0.048032</td>\n",
       "      <td>0.021255</td>\n",
       "    </tr>\n",
       "    <tr>\n",
       "      <th>cohen</th>\n",
       "      <td>0.045036</td>\n",
       "      <td>0.024016</td>\n",
       "      <td>0.021020</td>\n",
       "    </tr>\n",
       "    <tr>\n",
       "      <th>news</th>\n",
       "      <td>0.051965</td>\n",
       "      <td>0.031221</td>\n",
       "      <td>0.020744</td>\n",
       "    </tr>\n",
       "    <tr>\n",
       "      <th>trump</th>\n",
       "      <td>0.803723</td>\n",
       "      <td>0.823741</td>\n",
       "      <td>0.020018</td>\n",
       "    </tr>\n",
       "    <tr>\n",
       "      <th>russia</th>\n",
       "      <td>0.067554</td>\n",
       "      <td>0.086457</td>\n",
       "      <td>0.018902</td>\n",
       "    </tr>\n",
       "  </tbody>\n",
       "</table>\n",
       "</div>"
      ],
      "text/plain": [
       "                Dem      Repu       dif\n",
       "democrats  0.162823  0.134488  0.028335\n",
       "fbi        0.069287  0.096063  0.026777\n",
       "iran       0.036375  0.012008  0.024368\n",
       "us         0.077947  0.055236  0.022711\n",
       "gop        0.055429  0.033622  0.021807\n",
       "new        0.069287  0.048032  0.021255\n",
       "cohen      0.045036  0.024016  0.021020\n",
       "news       0.051965  0.031221  0.020744\n",
       "trump      0.803723  0.823741  0.020018\n",
       "russia     0.067554  0.086457  0.018902"
      ]
     },
     "execution_count": 36,
     "metadata": {},
     "output_type": "execute_result"
    }
   ],
   "source": [
    "sorted_df = df.transpose()\n",
    "sorted_df['dif'] = abs(sorted_df['Dem'] - sorted_df['Repu'])\n",
    "sorted_df.sort_values('dif', ascending=False).head(10)"
   ]
  },
  {
   "cell_type": "code",
   "execution_count": 78,
   "metadata": {},
   "outputs": [
    {
     "data": {
      "image/png": "[encoded data removed]",
      "text/plain": [
       "<matplotlib.figure.Figure at 0x1a1c00f278>"
      ]
     },
     "metadata": {},
     "output_type": "display_data"
    }
   ],
   "source": [
    "wordcloud = WordCloud(max_words=50,\n",
    "                        background_color='cornflowerblue',\n",
    "                          width=1200,\n",
    "                          height=1000\n",
    "                         ).generate(dem_str_2)\n",
    "\n",
    "\n",
    "plt.imshow(wordcloud)\n",
    "plt.axis('off')\n",
    "plt.show()"
   ]
  },
  {
   "cell_type": "code",
   "execution_count": 79,
   "metadata": {},
   "outputs": [
    {
     "data": {
      "image/png": "[encoded data removed]",
      "text/plain": [
       "<matplotlib.figure.Figure at 0x1a1bffed30>"
      ]
     },
     "metadata": {},
     "output_type": "display_data"
    }
   ],
   "source": [
    "wordcloud = WordCloud(max_words=50,\n",
    "                        background_color='lightcoral',\n",
    "                          width=1200,\n",
    "                          height=1000\n",
    "                         ).generate(repu_str_2)\n",
    "\n",
    "\n",
    "plt.imshow(wordcloud)\n",
    "plt.axis('off')\n",
    "plt.show()"
   ]
  },
  {
   "cell_type": "code",
   "execution_count": 37,
   "metadata": {},
   "outputs": [],
   "source": [
    "X = title['Title']\n",
    "y = title['class']"
   ]
  },
  {
   "cell_type": "code",
   "execution_count": 38,
   "metadata": {},
   "outputs": [],
   "source": [
    "for i in range(0,1627):\n",
    "    re.sub(\"[^a-zA-Z]\",\" \",X[i].lower())\n",
    "X_train, X_test, y_train, y_test = train_test_split(X, y, test_size=0.33)\n",
    "tvec = TfidfVectorizer(stop_words='english')\n",
    "X_train_counts = tvec.fit_transform(X_train)\n",
    "X_test_counts = tvec.transform(X_test)"
   ]
  },
  {
   "cell_type": "code",
   "execution_count": 39,
   "metadata": {},
   "outputs": [
    {
     "name": "stdout",
     "output_type": "stream",
     "text": [
      "0.6862385321100918\n",
      "{'C': 10, 'penalty': 'l2'}\n"
     ]
    }
   ],
   "source": [
    "lr = LogisticRegression()\n",
    "log_params = {'penalty': ['l1','l2'], 'C': [0.001,0.01,0.1,1,10,100,1000]}\n",
    "gs=GridSearchCV(lr , param_grid=log_params)\n",
    "gs.fit(X_train_counts, y_train)\n",
    "print(gs.best_score_)\n",
    "print(gs.best_params_)"
   ]
  },
  {
   "cell_type": "code",
   "execution_count": 40,
   "metadata": {},
   "outputs": [
    {
     "data": {
      "text/plain": [
       "0.6964618249534451"
      ]
     },
     "execution_count": 40,
     "metadata": {},
     "output_type": "execute_result"
    }
   ],
   "source": [
    "log_reg = LogisticRegression(C=100,penalty='l2')\n",
    "log_reg.fit(X_train_counts, y_train)\n",
    "log_reg.score(X_test_counts, y_test)"
   ]
  },
  {
   "cell_type": "code",
   "execution_count": 41,
   "metadata": {},
   "outputs": [
    {
     "name": "stdout",
     "output_type": "stream",
     "text": [
      "0.655045871559633\n",
      "{'max_depth': None, 'max_features': 9, 'n_estimators': 10}\n"
     ]
    }
   ],
   "source": [
    "rf = RandomForestClassifier()\n",
    "rf_params = {'n_estimators': [5,6,7,8,9,10],'max_features':[2,3,4,5,6,7,8,9],'max_depth':[None,2,3,4]}\n",
    "gs = GridSearchCV(rf, param_grid=rf_params)\n",
    "gs.fit(X_train_counts,y_train)\n",
    "print(gs.best_score_)\n",
    "print(gs.best_params_)"
   ]
  },
  {
   "cell_type": "code",
   "execution_count": 42,
   "metadata": {},
   "outputs": [
    {
     "data": {
      "text/plain": [
       "0.6722532588454376"
      ]
     },
     "execution_count": 42,
     "metadata": {},
     "output_type": "execute_result"
    }
   ],
   "source": [
    "rf_2 = RandomForestClassifier(max_depth=None,max_features=9,n_estimators=9)\n",
    "rf_2.fit(X_train_counts,y_train)\n",
    "rf_2.score(X_test_counts,y_test)"
   ]
  }
 ],
 "metadata": {
  "kernelspec": {
   "display_name": "Python [conda env:anaconda3]",
   "language": "python",
   "name": "conda-env-anaconda3-py"
  },
  "language_info": {
   "codemirror_mode": {
    "name": "ipython",
    "version": 3
   },
   "file_extension": ".py",
   "mimetype": "text/x-python",
   "name": "python",
   "nbconvert_exporter": "python",
   "pygments_lexer": "ipython3",
   "version": "3.6.4"
  }
 },
 "nbformat": 4,
 "nbformat_minor": 2
}
